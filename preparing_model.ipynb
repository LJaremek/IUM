{
 "cells": [
  {
   "cell_type": "code",
   "execution_count": 96,
   "metadata": {},
   "outputs": [],
   "source": [
    "import matplotlib.pyplot as plt\n",
    "import torch.utils.data as data\n",
    "import torch.optim as optim\n",
    "import torch.nn as nn\n",
    "import pandas as pd\n",
    "import numpy as np\n",
    "import torch\n"
   ]
  },
  {
   "cell_type": "code",
   "execution_count": 97,
   "metadata": {},
   "outputs": [
    {
     "data": {
      "text/plain": [
       "True"
      ]
     },
     "execution_count": 97,
     "metadata": {},
     "output_type": "execute_result"
    }
   ],
   "source": [
    "torch.cuda.set_device(0)\n",
    "device = torch.device(\"cuda\")\n",
    "torch.cuda.is_available()\n"
   ]
  },
  {
   "cell_type": "code",
   "execution_count": 98,
   "metadata": {},
   "outputs": [],
   "source": [
    "df_track_storage = pd.read_json(\"data/track_storage.jsonl\", lines=True)\n",
    "df_sessions = pd.read_json(\"data/sessions.jsonl\", lines=True)\n",
    "df_artists = pd.read_json(\"data/artists.jsonl\", lines=True)\n",
    "df_tracks = pd.read_json(\"data/tracks.jsonl\", lines=True)\n",
    "df_users = pd.read_json(\"data/users.jsonl\", lines=True)\n"
   ]
  },
  {
   "cell_type": "code",
   "execution_count": 99,
   "metadata": {},
   "outputs": [
    {
     "data": {
      "text/html": [
       "<div>\n",
       "<style scoped>\n",
       "    .dataframe tbody tr th:only-of-type {\n",
       "        vertical-align: middle;\n",
       "    }\n",
       "\n",
       "    .dataframe tbody tr th {\n",
       "        vertical-align: top;\n",
       "    }\n",
       "\n",
       "    .dataframe thead th {\n",
       "        text-align: right;\n",
       "    }\n",
       "</style>\n",
       "<table border=\"1\" class=\"dataframe\">\n",
       "  <thead>\n",
       "    <tr style=\"text-align: right;\">\n",
       "      <th></th>\n",
       "      <th>timestamp</th>\n",
       "      <th>genres</th>\n",
       "    </tr>\n",
       "  </thead>\n",
       "  <tbody>\n",
       "    <tr>\n",
       "      <th>0</th>\n",
       "      <td>2022-04-01</td>\n",
       "      <td>[neo mellow, piano rock, pop rock, rock]</td>\n",
       "    </tr>\n",
       "    <tr>\n",
       "      <th>1</th>\n",
       "      <td>2022-05-05</td>\n",
       "      <td>[neo mellow, piano rock, pop rock, rock]</td>\n",
       "    </tr>\n",
       "    <tr>\n",
       "      <th>2</th>\n",
       "      <td>2022-06-13</td>\n",
       "      <td>[neo mellow, piano rock, pop rock, rock]</td>\n",
       "    </tr>\n",
       "    <tr>\n",
       "      <th>3</th>\n",
       "      <td>2022-06-13</td>\n",
       "      <td>[neo mellow, piano rock, pop rock, rock]</td>\n",
       "    </tr>\n",
       "    <tr>\n",
       "      <th>4</th>\n",
       "      <td>2022-06-26</td>\n",
       "      <td>[neo mellow, piano rock, pop rock, rock]</td>\n",
       "    </tr>\n",
       "  </tbody>\n",
       "</table>\n",
       "</div>"
      ],
      "text/plain": [
       "    timestamp                                    genres\n",
       "0  2022-04-01  [neo mellow, piano rock, pop rock, rock]\n",
       "1  2022-05-05  [neo mellow, piano rock, pop rock, rock]\n",
       "2  2022-06-13  [neo mellow, piano rock, pop rock, rock]\n",
       "3  2022-06-13  [neo mellow, piano rock, pop rock, rock]\n",
       "4  2022-06-26  [neo mellow, piano rock, pop rock, rock]"
      ]
     },
     "execution_count": 99,
     "metadata": {},
     "output_type": "execute_result"
    }
   ],
   "source": [
    "df = pd.merge(\n",
    "    df_sessions,\n",
    "    df_tracks,\n",
    "    left_on=\"track_id\",\n",
    "    right_on=\"id\"\n",
    ").drop([\"id\"], axis=1)\n",
    "\n",
    "df = pd.merge(\n",
    "    df,\n",
    "    df_artists,\n",
    "    left_on=\"id_artist\",\n",
    "    right_on=\"id\"\n",
    ").drop([\"id\"], axis=1)\n",
    "\n",
    "df = df[[\"timestamp\", \"genres\"]]\n",
    "df['timestamp'] = pd.to_datetime(df['timestamp']).dt.date  # strftime('%Y-%m')\n",
    "\n",
    "df.head()\n"
   ]
  },
  {
   "cell_type": "code",
   "execution_count": 100,
   "metadata": {},
   "outputs": [
    {
     "name": "stdout",
     "output_type": "stream",
     "text": [
      "(63687, 26)\n"
     ]
    },
    {
     "data": {
      "text/html": [
       "<div>\n",
       "<style scoped>\n",
       "    .dataframe tbody tr th:only-of-type {\n",
       "        vertical-align: middle;\n",
       "    }\n",
       "\n",
       "    .dataframe tbody tr th {\n",
       "        vertical-align: top;\n",
       "    }\n",
       "\n",
       "    .dataframe thead th {\n",
       "        text-align: right;\n",
       "    }\n",
       "</style>\n",
       "<table border=\"1\" class=\"dataframe\">\n",
       "  <thead>\n",
       "    <tr style=\"text-align: right;\">\n",
       "      <th></th>\n",
       "      <th>timestamp</th>\n",
       "      <th>hip hop</th>\n",
       "      <th>pop</th>\n",
       "      <th>rap</th>\n",
       "      <th>rock</th>\n",
       "      <th>disco</th>\n",
       "      <th>metal</th>\n",
       "      <th>punk</th>\n",
       "      <th>jazz</th>\n",
       "      <th>indie</th>\n",
       "      <th>...</th>\n",
       "      <th>reggae</th>\n",
       "      <th>funk</th>\n",
       "      <th>dance</th>\n",
       "      <th>latin</th>\n",
       "      <th>romantic</th>\n",
       "      <th>country</th>\n",
       "      <th>classical</th>\n",
       "      <th>edm</th>\n",
       "      <th>_other_</th>\n",
       "      <th>count</th>\n",
       "    </tr>\n",
       "  </thead>\n",
       "  <tbody>\n",
       "    <tr>\n",
       "      <th>0</th>\n",
       "      <td>2022-03-31</td>\n",
       "      <td>0</td>\n",
       "      <td>0</td>\n",
       "      <td>0</td>\n",
       "      <td>0</td>\n",
       "      <td>0</td>\n",
       "      <td>0</td>\n",
       "      <td>0</td>\n",
       "      <td>0</td>\n",
       "      <td>0</td>\n",
       "      <td>...</td>\n",
       "      <td>0</td>\n",
       "      <td>0</td>\n",
       "      <td>0</td>\n",
       "      <td>0</td>\n",
       "      <td>0</td>\n",
       "      <td>0</td>\n",
       "      <td>0</td>\n",
       "      <td>0</td>\n",
       "      <td>1</td>\n",
       "      <td>77</td>\n",
       "    </tr>\n",
       "    <tr>\n",
       "      <th>1</th>\n",
       "      <td>2022-03-31</td>\n",
       "      <td>0</td>\n",
       "      <td>0</td>\n",
       "      <td>0</td>\n",
       "      <td>0</td>\n",
       "      <td>0</td>\n",
       "      <td>0</td>\n",
       "      <td>0</td>\n",
       "      <td>0</td>\n",
       "      <td>0</td>\n",
       "      <td>...</td>\n",
       "      <td>0</td>\n",
       "      <td>0</td>\n",
       "      <td>0</td>\n",
       "      <td>0</td>\n",
       "      <td>0</td>\n",
       "      <td>0</td>\n",
       "      <td>1</td>\n",
       "      <td>0</td>\n",
       "      <td>1</td>\n",
       "      <td>1</td>\n",
       "    </tr>\n",
       "    <tr>\n",
       "      <th>2</th>\n",
       "      <td>2022-03-31</td>\n",
       "      <td>0</td>\n",
       "      <td>0</td>\n",
       "      <td>0</td>\n",
       "      <td>0</td>\n",
       "      <td>0</td>\n",
       "      <td>0</td>\n",
       "      <td>0</td>\n",
       "      <td>0</td>\n",
       "      <td>0</td>\n",
       "      <td>...</td>\n",
       "      <td>0</td>\n",
       "      <td>0</td>\n",
       "      <td>0</td>\n",
       "      <td>0</td>\n",
       "      <td>0</td>\n",
       "      <td>1</td>\n",
       "      <td>0</td>\n",
       "      <td>0</td>\n",
       "      <td>0</td>\n",
       "      <td>16</td>\n",
       "    </tr>\n",
       "    <tr>\n",
       "      <th>3</th>\n",
       "      <td>2022-03-31</td>\n",
       "      <td>0</td>\n",
       "      <td>0</td>\n",
       "      <td>0</td>\n",
       "      <td>0</td>\n",
       "      <td>0</td>\n",
       "      <td>0</td>\n",
       "      <td>0</td>\n",
       "      <td>0</td>\n",
       "      <td>0</td>\n",
       "      <td>...</td>\n",
       "      <td>0</td>\n",
       "      <td>1</td>\n",
       "      <td>0</td>\n",
       "      <td>0</td>\n",
       "      <td>0</td>\n",
       "      <td>0</td>\n",
       "      <td>0</td>\n",
       "      <td>0</td>\n",
       "      <td>1</td>\n",
       "      <td>4</td>\n",
       "    </tr>\n",
       "    <tr>\n",
       "      <th>4</th>\n",
       "      <td>2022-03-31</td>\n",
       "      <td>0</td>\n",
       "      <td>0</td>\n",
       "      <td>0</td>\n",
       "      <td>0</td>\n",
       "      <td>0</td>\n",
       "      <td>0</td>\n",
       "      <td>0</td>\n",
       "      <td>0</td>\n",
       "      <td>0</td>\n",
       "      <td>...</td>\n",
       "      <td>1</td>\n",
       "      <td>0</td>\n",
       "      <td>0</td>\n",
       "      <td>0</td>\n",
       "      <td>0</td>\n",
       "      <td>0</td>\n",
       "      <td>0</td>\n",
       "      <td>0</td>\n",
       "      <td>0</td>\n",
       "      <td>11</td>\n",
       "    </tr>\n",
       "  </tbody>\n",
       "</table>\n",
       "<p>5 rows × 26 columns</p>\n",
       "</div>"
      ],
      "text/plain": [
       "    timestamp  hip hop  pop  rap  rock  disco  metal  punk  jazz  indie  ...  \\\n",
       "0  2022-03-31        0    0    0     0      0      0     0     0      0  ...   \n",
       "1  2022-03-31        0    0    0     0      0      0     0     0      0  ...   \n",
       "2  2022-03-31        0    0    0     0      0      0     0     0      0  ...   \n",
       "3  2022-03-31        0    0    0     0      0      0     0     0      0  ...   \n",
       "4  2022-03-31        0    0    0     0      0      0     0     0      0  ...   \n",
       "\n",
       "   reggae  funk  dance  latin  romantic  country  classical  edm  _other_  \\\n",
       "0       0     0      0      0         0        0          0    0        1   \n",
       "1       0     0      0      0         0        0          1    0        1   \n",
       "2       0     0      0      0         0        1          0    0        0   \n",
       "3       0     1      0      0         0        0          0    0        1   \n",
       "4       1     0      0      0         0        0          0    0        0   \n",
       "\n",
       "   count  \n",
       "0     77  \n",
       "1      1  \n",
       "2     16  \n",
       "3      4  \n",
       "4     11  \n",
       "\n",
       "[5 rows x 26 columns]"
      ]
     },
     "execution_count": 100,
     "metadata": {},
     "output_type": "execute_result"
    }
   ],
   "source": [
    "class Genres:\n",
    "    def __init__(self) -> None:\n",
    "        self.genres: list[str] = []\n",
    "    \n",
    "    def get(self, x) -> None:\n",
    "        x = \",\".join(x)\n",
    "        self.genres += x.split(\",\")\n",
    "        return x\n",
    "\n",
    "\n",
    "g = Genres()\n",
    "\n",
    "df_artists[\"genres\"].apply(lambda x: g.get(x))\n",
    "\n",
    "popular = {\n",
    "    \"hip hop\": [],\n",
    "    \"pop\": [],\n",
    "    \"rap\": [],\n",
    "    \"rock\": [],\n",
    "    \"disco\": [],\n",
    "    \"metal\": [],\n",
    "    \"punk\": [],\n",
    "    \"jazz\": [],\n",
    "    \"indie\": [],\n",
    "    \"folk\": [],\n",
    "    \"r&b\": [],\n",
    "    \"soul\": [],\n",
    "    \"drill\": [],\n",
    "    \"electro\": [],\n",
    "    \"house\": [],\n",
    "    \"reggae\": [],\n",
    "    \"funk\": [],\n",
    "    \"dance\": [],\n",
    "    \"latin\": [],\n",
    "    \"romantic\": [],\n",
    "    \"country\": [],\n",
    "    \"classical\": [],\n",
    "    \"edm\": [],\n",
    "    \"_other_\": []\n",
    "    }\n",
    "\n",
    "\n",
    "for i, e in enumerate(set(g.genres)):\n",
    "    done = False\n",
    "    for key in popular.keys():\n",
    "        if key in e:\n",
    "            popular[key].append(e)\n",
    "            done = True\n",
    "    if not done:\n",
    "        popular[\"_other_\"].append(e)\n",
    "\n",
    "ordered_genres = list(set(g.genres))\n",
    "custom_artists = {}\n",
    "\n",
    "for key, values in popular.items():\n",
    "    df[key] = df[\"genres\"].apply(\n",
    "        lambda x: 1 if set(values).intersection(x) else 0\n",
    "        )\n",
    "\n",
    "df = df.drop([\"genres\"], axis=1)\n",
    "\n",
    "df = df.groupby([\n",
    "    'timestamp', 'hip hop', 'pop', 'rap', 'rock', 'disco', 'metal', 'punk', \n",
    "    'jazz', 'indie', 'folk', 'r&b', 'soul', 'drill', 'electro', 'house',\n",
    "    'reggae', 'funk', 'dance', 'latin', 'romantic', 'country', 'classical',\n",
    "    'edm', '_other_']).size().reset_index(name='count')\n",
    "\n",
    "\n",
    "print(df.shape)\n",
    "df.head()\n"
   ]
  },
  {
   "cell_type": "code",
   "execution_count": 101,
   "metadata": {},
   "outputs": [
    {
     "data": {
      "image/png": "[encoded data removed]",
      "text/plain": [
       "<Figure size 640x480 with 1 Axes>"
      ]
     },
     "metadata": {},
     "output_type": "display_data"
    }
   ],
   "source": [
    "import matplotlib.pyplot as plt\n",
    "import pandas as pd\n",
    "\n",
    "column_name = \"timestamp\"\n",
    "plt.hist(df[column_name], bins=\"auto\", alpha=0.7, rwidth=0.85)\n",
    "plt.grid(axis=\"y\", alpha=0.75)\n",
    "plt.xlabel(column_name)\n",
    "plt.ylabel(\"Liczba wystąpień\")\n",
    "plt.title(f\"Histogram dla kolumny {column_name}\")\n",
    "plt.show()\n"
   ]
  },
  {
   "cell_type": "code",
   "execution_count": 102,
   "metadata": {},
   "outputs": [
    {
     "data": {
      "text/plain": [
       "(10.315433290938497, 22.681156415314994)"
      ]
     },
     "execution_count": 102,
     "metadata": {},
     "output_type": "execute_result"
    }
   ],
   "source": [
    "mean = df[\"count\"].mean()\n",
    "std = df[\"count\"].std()\n",
    "df[\"count\"] = (df[\"count\"] - mean) / std\n",
    "\n",
    "mean, std\n"
   ]
  },
  {
   "cell_type": "code",
   "execution_count": 103,
   "metadata": {},
   "outputs": [],
   "source": [
    "df = df.sort_values(\"timestamp\")\n"
   ]
  },
  {
   "cell_type": "code",
   "execution_count": 104,
   "metadata": {},
   "outputs": [],
   "source": [
    "df.to_csv(\"./data/prepared.csv\", index=False)\n"
   ]
  },
  {
   "cell_type": "code",
   "execution_count": 105,
   "metadata": {},
   "outputs": [],
   "source": [
    "def prepare_data(dataset: pd.DataFrame, lookback: int = 7):\n",
    "    X_series, X_params, y = [], [], []\n",
    "    for i in range(len(dataset)-lookback):\n",
    "        x_series = dataset[\"count\"].values.astype('float32')[i:i+lookback]\n",
    "\n",
    "        x_params = dataset.drop([\"count\"], axis=1).values.astype('float32')[i:i+lookback]\n",
    "\n",
    "        target = dataset[\"count\"].values.astype('float32')[i+1:i+lookback+1]\n",
    "\n",
    "        X_series.append(x_series)\n",
    "        X_params.append(x_params)\n",
    "        y.append(target)\n",
    "\n",
    "    return X_series, X_params, y\n",
    "\n",
    "\n",
    "X_series, X_params, y = [], [], []\n",
    "\n",
    "data_batch_size = 500\n",
    "for i in range(0, len(df), data_batch_size):\n",
    "    batch = df[i:i+data_batch_size]\n",
    "\n",
    "    df_track_tmp = batch.drop([\"timestamp\"], axis=1)\n",
    "    X_s_tmp, X_p_tmp, y_tmp = prepare_data(df_track_tmp)\n",
    "    X_series += X_s_tmp\n",
    "    X_params += X_p_tmp\n",
    "    y += y_tmp\n",
    "\n",
    "X_series = torch.tensor(X_series)\n",
    "X_params = torch.tensor(X_params)\n",
    "y = torch.tensor(y)\n"
   ]
  },
  {
   "cell_type": "code",
   "execution_count": 106,
   "metadata": {},
   "outputs": [
    {
     "data": {
      "text/plain": [
       "(tensor([ 2.9401, -0.4107, -0.2784, -0.2784, -0.3225, -0.2784, -0.4107]),\n",
       " tensor([[0., 0., 0., 0., 0., 0., 0., 0., 0., 0., 0., 0., 0., 0., 0., 0., 0., 0.,\n",
       "          0., 0., 0., 0., 0., 1.],\n",
       "         [0., 1., 0., 1., 0., 0., 0., 0., 1., 0., 0., 0., 0., 0., 0., 0., 0., 1.,\n",
       "          0., 0., 0., 0., 0., 1.],\n",
       "         [0., 1., 0., 1., 0., 0., 0., 0., 1., 0., 0., 0., 0., 0., 0., 0., 0., 0.,\n",
       "          0., 0., 0., 0., 0., 1.],\n",
       "         [0., 1., 0., 1., 0., 0., 0., 0., 1., 0., 0., 0., 0., 0., 0., 0., 0., 0.,\n",
       "          0., 0., 0., 0., 0., 0.],\n",
       "         [0., 1., 0., 1., 0., 0., 0., 0., 0., 1., 0., 0., 0., 0., 0., 0., 0., 0.,\n",
       "          0., 0., 0., 0., 0., 1.],\n",
       "         [0., 1., 0., 1., 0., 0., 0., 0., 0., 1., 0., 0., 0., 0., 0., 0., 0., 0.,\n",
       "          0., 0., 0., 0., 0., 0.],\n",
       "         [0., 1., 0., 1., 0., 0., 0., 0., 0., 0., 0., 0., 0., 0., 0., 0., 1., 1.,\n",
       "          0., 1., 0., 0., 0., 1.]]),\n",
       " tensor([-0.4107, -0.2784, -0.2784, -0.3225, -0.2784, -0.4107, -0.1903]))"
      ]
     },
     "execution_count": 106,
     "metadata": {},
     "output_type": "execute_result"
    }
   ],
   "source": [
    "X_series[0], X_params[0], y[0]\n"
   ]
  },
  {
   "cell_type": "code",
   "execution_count": 107,
   "metadata": {},
   "outputs": [],
   "source": [
    "train_size = int(len(X_series) * 0.8)\n",
    "test_size = len(X_series) - train_size\n",
    "\n",
    "X_s_train, X_s_test = X_series[:train_size], X_series[train_size:]\n",
    "X_p_train, X_p_test = X_params[:train_size], X_params[train_size:]\n",
    "y_train, y_test = y[:train_size], y[train_size:]\n",
    "\n",
    "\n",
    "pd.DataFrame(\n",
    "    X_s_test.numpy()\n",
    "    ).to_csv(\"./data/X_s_test.csv\", index=False, header=False)\n",
    "\n",
    "pd.DataFrame(\n",
    "    X_p_test.numpy().reshape(-1, X_p_test.shape[-1])\n",
    "    ).to_csv(\"./data/X_p_test.csv\", index=False, header=False)\n",
    "\n",
    "pd.DataFrame(\n",
    "    y_test.numpy()\n",
    "    ).to_csv(\"./data/y_test.csv\", index=False, header=False)\n"
   ]
  },
  {
   "cell_type": "code",
   "execution_count": 108,
   "metadata": {},
   "outputs": [],
   "source": [
    "# df_track_tmp.drop([\"count\"], axis=1)[0:0+7]\n",
    "# df_track_tmp[\"count\"][0:0+7]\n"
   ]
  },
  {
   "cell_type": "code",
   "execution_count": 109,
   "metadata": {},
   "outputs": [
    {
     "data": {
      "text/plain": [
       "(torch.Size([50232, 7]),\n",
       " torch.Size([50232, 7, 24]),\n",
       " torch.Size([50232, 7]),\n",
       " '',\n",
       " torch.Size([12559, 7]),\n",
       " torch.Size([12559, 7, 24]),\n",
       " torch.Size([12559, 7]))"
      ]
     },
     "execution_count": 109,
     "metadata": {},
     "output_type": "execute_result"
    }
   ],
   "source": [
    "X_s_train.shape, X_p_train.shape, y_train.shape, \"\", X_s_test.shape, X_p_test.shape, y_test.shape\n"
   ]
  },
  {
   "cell_type": "code",
   "execution_count": 110,
   "metadata": {},
   "outputs": [],
   "source": [
    "class SuperMusicModel(nn.Module):\n",
    "    def __init__(self, num_params):\n",
    "        super().__init__()\n",
    "        self.lstm = nn.LSTM(input_size=1, hidden_size=50, num_layers=1, batch_first=True)\n",
    "        self.linear = nn.Linear(50 + num_params, 1).cuda()\n",
    "\n",
    "    def forward(self, x, params):\n",
    "        x, (h_n, _) = self.lstm(x)\n",
    "        combined = torch.cat((x, params), dim=2)\n",
    "        output = self.linear(combined)\n",
    "        # output = torch.relu(output)  # ReLU activation for non-negative val.\n",
    "        # output = torch.round(output)\n",
    "        return output\n",
    "\n",
    "\n",
    "num_params = X_p_train.shape[2]\n",
    "model = SuperMusicModel(num_params).cuda()\n",
    "optimizer = optim.Adam(model.parameters())\n",
    "loss_fn = nn.MSELoss()\n",
    "\n",
    "BATCH_SIZE = 8\n",
    "\n",
    "train_dataset = data.TensorDataset(X_s_train, X_p_train, y_train)\n",
    "train_loader = data.DataLoader(\n",
    "    train_dataset, shuffle=False, batch_size=BATCH_SIZE\n",
    "    )\n",
    "\n",
    "test_dataset = data.TensorDataset(X_s_test, X_p_test, y_test)\n",
    "test_loader = data.DataLoader(\n",
    "    test_dataset, shuffle=False, batch_size=BATCH_SIZE\n",
    "    )\n"
   ]
  },
  {
   "cell_type": "code",
   "execution_count": 111,
   "metadata": {},
   "outputs": [],
   "source": [
    "# model = torch.load(\"./lstm4.pth\")\n",
    "# model.eval()\n"
   ]
  },
  {
   "cell_type": "code",
   "execution_count": 112,
   "metadata": {},
   "outputs": [
    {
     "name": "stdout",
     "output_type": "stream",
     "text": [
      "Epoch     2 with loss 30.879757378012144\n",
      "Epoch     4 with loss 30.843013904619333\n",
      "Epoch     6 with loss 30.8189718788191\n",
      "Epoch     8 with loss 30.79107405642826\n",
      "Epoch    10 with loss 30.757505944933595\n",
      "Epoch    12 with loss 30.72597913751631\n",
      "Epoch    14 with loss 30.696266822612245\n",
      "Epoch    16 with loss 30.665647261451568\n",
      "Epoch    18 with loss 30.635934946547508\n"
     ]
    },
    {
     "data": {
      "text/plain": [
       "30.775982965738507"
      ]
     },
     "execution_count": 112,
     "metadata": {},
     "output_type": "execute_result"
    }
   ],
   "source": [
    "model.train()\n",
    "\n",
    "EPOCHS = 20\n",
    "percentage_values = [EPOCHS * (p / 100) for p in range(10, 100, 10)]\n",
    "\n",
    "\n",
    "epochs_losses = []\n",
    "for epoch in range(EPOCHS):\n",
    "    epoch_lossess = []\n",
    "    for x_s, x_p, y_ in train_loader:\n",
    "\n",
    "        x_s = x_s.unsqueeze(2)\n",
    "        x_s = x_s.cuda()\n",
    "        x_p = x_p.cuda()\n",
    "        y_ = y_.cuda().unsqueeze(2)\n",
    "\n",
    "        preds = model(x_s, x_p)\n",
    "\n",
    "        optimizer.zero_grad()\n",
    "\n",
    "        loss = loss_fn(preds, y_)\n",
    "        loss.backward()\n",
    "\n",
    "        epoch_lossess.append(loss.item())\n",
    "        optimizer.step()\n",
    "\n",
    "    loss_mean = np.array(epoch_lossess).mean()\n",
    "    epochs_losses.append(loss_mean)\n",
    "\n",
    "    if epoch in percentage_values:\n",
    "        print(f\"Epoch {epoch:5} with loss {round(loss_mean, 5)*std+mean:7}\")\n",
    "        # print(preds.squeeze(2))\n",
    "        # print(y_.squeeze(2))\n",
    "        # print()\n",
    "\n",
    "\n",
    "loss_mean = np.array(epochs_losses).mean()\n",
    "loss_mean*std+mean\n"
   ]
  },
  {
   "cell_type": "code",
   "execution_count": 118,
   "metadata": {},
   "outputs": [
    {
     "name": "stdout",
     "output_type": "stream",
     "text": [
      "19\n"
     ]
    },
    {
     "ename": "",
     "evalue": "",
     "output_type": "error",
     "traceback": [
      "\u001b[1;31mThe Kernel crashed while executing code in the the current cell or a previous cell. Please review the code in the cell(s) to identify a possible cause of the failure. Click <a href='https://aka.ms/vscodeJupyterKernelCrash'>here</a> for more info. View Jupyter <a href='command:jupyter.viewOutput'>log</a> for further details."
     ]
    }
   ],
   "source": [
    "print(epoch)\n",
    "torch.save(model, \"./lstm_gatunki.pt\")\n"
   ]
  },
  {
   "cell_type": "code",
   "execution_count": 114,
   "metadata": {},
   "outputs": [
    {
     "data": {
      "text/plain": [
       "20"
      ]
     },
     "execution_count": 114,
     "metadata": {},
     "output_type": "execute_result"
    }
   ],
   "source": [
    "len(range(len(epochs_losses)))"
   ]
  },
  {
   "cell_type": "code",
   "execution_count": 115,
   "metadata": {},
   "outputs": [
    {
     "data": {
      "image/png": "[encoded data removed]",
      "text/plain": [
       "<Figure size 640x480 with 1 Axes>"
      ]
     },
     "metadata": {},
     "output_type": "display_data"
    }
   ],
   "source": [
    "plt.plot(range(len(epochs_losses)), epochs_losses)\n",
    "\n",
    "plt.xlabel(\"Epoch number\")\n",
    "plt.ylabel(\"Loss Mean\")\n",
    "\n",
    "plt.title(\"Błąd na przestrzeni epok\")\n",
    "plt.show()\n"
   ]
  },
  {
   "attachments": {},
   "cell_type": "markdown",
   "metadata": {},
   "source": [
    "# Walidacja przy założeniu, że model ma przewidzieć ostatnie 6 dni oraz 1 przyszły"
   ]
  },
  {
   "cell_type": "code",
   "execution_count": 116,
   "metadata": {},
   "outputs": [
    {
     "name": "stdout",
     "output_type": "stream",
     "text": [
      "tensor(21.2355, device='cuda:0')\n"
     ]
    }
   ],
   "source": [
    "model.eval()\n",
    "\n",
    "results = []\n",
    "with torch.no_grad():\n",
    "    correct, all_ = 0, 0\n",
    "    for X_s, X_p, labels in test_loader:\n",
    "\n",
    "        X_s = X_s.unsqueeze(2).to(device)\n",
    "        X_p = X_p.to(device)\n",
    "        labels = labels.unsqueeze(2).to(device)\n",
    "\n",
    "        preds = model(X_s, X_p)\n",
    "\n",
    "        results.append(abs(preds-labels).mean())\n",
    "\n",
    "print((sum(results)/len(results))*std+mean)\n"
   ]
  },
  {
   "attachments": {},
   "cell_type": "markdown",
   "metadata": {},
   "source": [
    "# Walidacja przy założeniu, że model ma przewidzieć 1 przyszły dzień"
   ]
  },
  {
   "cell_type": "code",
   "execution_count": 117,
   "metadata": {},
   "outputs": [
    {
     "name": "stdout",
     "output_type": "stream",
     "text": [
      "tensor(21.2786, device='cuda:0')\n"
     ]
    }
   ],
   "source": [
    "model.eval()\n",
    "\n",
    "results = []\n",
    "with torch.no_grad():\n",
    "    correct, all_ = 0, 0\n",
    "    for X_s, X_p, labels in test_loader:\n",
    "\n",
    "        X_s = X_s.unsqueeze(2).to(device)\n",
    "        X_p = X_p.to(device)\n",
    "        labels = labels.unsqueeze(2).to(device)\n",
    "\n",
    "        preds = model(X_s, X_p)\n",
    "\n",
    "        results.append(abs(preds[-1]-labels[-1]).mean())\n",
    "\n",
    "print(sum(results)/len(results)*std+mean)\n"
   ]
  }
 ],
 "metadata": {
  "kernelspec": {
   "display_name": "ssne",
   "language": "python",
   "name": "python3"
  },
  "language_info": {
   "codemirror_mode": {
    "name": "ipython",
    "version": 3
   },
   "file_extension": ".py",
   "mimetype": "text/x-python",
   "name": "python",
   "nbconvert_exporter": "python",
   "pygments_lexer": "ipython3",
   "version": "3.10.8 (main, Nov 24 2022, 14:13:03) [GCC 11.2.0]"
  },
  "orig_nbformat": 4,
  "vscode": {
   "interpreter": {
    "hash": "fefba7ab84d2de9e566d8fee028ec3dc1e3f21c7f74d680889548c1a33856853"
   }
  }
 },
 "nbformat": 4,
 "nbformat_minor": 2
}
