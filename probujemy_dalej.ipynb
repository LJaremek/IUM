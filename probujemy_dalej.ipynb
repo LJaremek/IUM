{
 "cells": [
  {
   "cell_type": "code",
   "execution_count": 300,
   "metadata": {},
   "outputs": [],
   "source": [
    "import matplotlib.pyplot as plt\n",
    "import torch.utils.data as data\n",
    "import torch.optim as optim\n",
    "import torch.nn as nn\n",
    "import pandas as pd\n",
    "import numpy as np\n",
    "import torch\n"
   ]
  },
  {
   "cell_type": "code",
   "execution_count": 301,
   "metadata": {},
   "outputs": [
    {
     "data": {
      "text/plain": [
       "True"
      ]
     },
     "execution_count": 301,
     "metadata": {},
     "output_type": "execute_result"
    }
   ],
   "source": [
    "torch.cuda.set_device(0)\n",
    "device = torch.device(\"cuda\")\n",
    "torch.cuda.is_available()\n"
   ]
  },
  {
   "cell_type": "code",
   "execution_count": 302,
   "metadata": {},
   "outputs": [],
   "source": [
    "df_track_storage = pd.read_json(\"data/track_storage.jsonl\", lines=True)\n",
    "df_sessions = pd.read_json(\"data/sessions.jsonl\", lines=True)\n",
    "df_artists = pd.read_json(\"data/artists.jsonl\", lines=True)\n",
    "df_tracks = pd.read_json(\"data/tracks.jsonl\", lines=True)\n",
    "df_users = pd.read_json(\"data/users.jsonl\", lines=True)\n"
   ]
  },
  {
   "cell_type": "code",
   "execution_count": 303,
   "metadata": {},
   "outputs": [
    {
     "name": "stderr",
     "output_type": "stream",
     "text": [
      "/tmp/ipykernel_344/4107975570.py:9: SettingWithCopyWarning: \n",
      "A value is trying to be set on a copy of a slice from a DataFrame.\n",
      "Try using .loc[row_indexer,col_indexer] = value instead\n",
      "\n",
      "See the caveats in the documentation: https://pandas.pydata.org/pandas-docs/stable/user_guide/indexing.html#returning-a-view-versus-a-copy\n",
      "  df['timestamp'] = pd.to_datetime(df['timestamp']).dt.date\n"
     ]
    },
    {
     "data": {
      "text/plain": [
       "Index(['track_id', 'timestamp', 'count'], dtype='object')"
      ]
     },
     "execution_count": 303,
     "metadata": {},
     "output_type": "execute_result"
    }
   ],
   "source": [
    "df = pd.merge(\n",
    "    df_sessions,\n",
    "    df_tracks,\n",
    "    left_on=\"track_id\",\n",
    "    right_on=\"id\"\n",
    ").drop([\"id\"], axis=1)\n",
    "\n",
    "df = df_sessions[[\"timestamp\", \"track_id\"]]\n",
    "df['timestamp'] = pd.to_datetime(df['timestamp']).dt.date\n",
    "df = df.groupby(['track_id', 'timestamp']).size().reset_index(name='count')\n",
    "\n",
    "df.columns\n"
   ]
  },
  {
   "cell_type": "code",
   "execution_count": 305,
   "metadata": {},
   "outputs": [],
   "source": [
    "def prepare_data(dataset, lookback=7):\n",
    "    X, y = [], []\n",
    "    for i in range(len(dataset)-lookback):\n",
    "        feature = dataset[i:i+lookback]\n",
    "        target = dataset[i+1:i+lookback+1]\n",
    "        X.append(feature)\n",
    "        y.append(target)\n",
    "    return X, y\n",
    "\n",
    "\n",
    "X, y = [], []\n",
    "\n",
    "for trakc_id in list(df[\"track_id\"].unique()[:10]):\n",
    "    df_track_tmp = df.loc[df[\"track_id\"] == track_id].sort_values(by=\"timestamp\").drop([\"track_id\", \"timestamp\"], axis=1)\n",
    "    df_track_tmp = df_track_tmp.values.astype('float32')\n",
    "    X_tmp, y_tmp = prepare_data(df_track_tmp)\n",
    "    X += X_tmp\n",
    "    y += y_tmp\n",
    "\n",
    "X = torch.tensor(X)\n",
    "y = torch.tensor(y)\n"
   ]
  },
  {
   "cell_type": "code",
   "execution_count": 306,
   "metadata": {},
   "outputs": [],
   "source": [
    "def create_dataset(dataset, lookback):\n",
    "    X, y = [], []\n",
    "    for i in range(len(dataset)-lookback):\n",
    "        feature = dataset[i:i+lookback]\n",
    "        target = dataset[i+1:i+lookback+1]\n",
    "        X.append(feature)\n",
    "        y.append(target)\n",
    "    return torch.tensor(X), torch.tensor(y)\n",
    "\n",
    "\n",
    "if False:\n",
    "    track_id = \"000xYdQfIZ4pDmBGzQalKU\"\n",
    "    df_track_tmp = df.loc[df[\"track_id\"] == track_id].sort_values(by=\"timestamp\").drop([\"track_id\", \"timestamp\"], axis=1)\n",
    "    df_track_tmp = df_track_tmp.values.astype('float32')\n",
    "\n",
    "    X, y = create_dataset(df_track_tmp, lookback=7)\n",
    "\n",
    "    train_size = int(len(X) * 0.8)\n",
    "    test_size = len(X) - train_size\n",
    "    X_train, X_test = X[:train_size], X[train_size:]\n",
    "    y_train, y_test = y[:train_size], y[train_size:]\n",
    "\n",
    "\n",
    "train_size = int(len(X) * 0.8)\n",
    "test_size = len(X) - train_size\n",
    "X_train, X_test = X[:train_size], X[train_size:]\n",
    "y_train, y_test = y[:train_size], y[train_size:]\n"
   ]
  },
  {
   "cell_type": "code",
   "execution_count": 307,
   "metadata": {},
   "outputs": [
    {
     "data": {
      "text/plain": [
       "(torch.Size([96, 7, 1]),\n",
       " torch.Size([96, 7, 1]),\n",
       " torch.Size([24, 7, 1]),\n",
       " torch.Size([24, 7, 1]))"
      ]
     },
     "execution_count": 307,
     "metadata": {},
     "output_type": "execute_result"
    }
   ],
   "source": [
    "X_train.shape, y_train.shape, X_test.shape, y_test.shape"
   ]
  },
  {
   "cell_type": "code",
   "execution_count": 308,
   "metadata": {},
   "outputs": [],
   "source": [
    "class SuperMusicModel(nn.Module):\n",
    "    def __init__(self):\n",
    "        super().__init__()\n",
    "        self.lstm = nn.LSTM(input_size=1, hidden_size=50, num_layers=1, batch_first=True)\n",
    "        self.linear = nn.Linear(50, 1)\n",
    "    def forward(self, x):\n",
    "        x, _ = self.lstm(x)\n",
    "        x = self.linear(x)\n",
    "        return x\n",
    " \n",
    "\n",
    "model = SuperMusicModel().cuda()\n",
    "optimizer = optim.Adam(model.parameters())\n",
    "loss_fn = nn.MSELoss()\n",
    "\n",
    "BATCH_SIZE = 8\n",
    "\n",
    "train_dataset = data.TensorDataset(X_train, y_train)\n",
    "train_loader = data.DataLoader(train_dataset, shuffle=True, batch_size=BATCH_SIZE)\n",
    "\n",
    "test_dataset = data.TensorDataset(X_test, y_test)\n",
    "test_loader = data.DataLoader(test_dataset, shuffle=True, batch_size=BATCH_SIZE)\n"
   ]
  },
  {
   "cell_type": "code",
   "execution_count": 309,
   "metadata": {},
   "outputs": [
    {
     "data": {
      "text/plain": [
       "0.14031983588822186"
      ]
     },
     "execution_count": 309,
     "metadata": {},
     "output_type": "execute_result"
    }
   ],
   "source": [
    "model.train()\n",
    "\n",
    "epochs_losses = []\n",
    "for epoch in range(1000):\n",
    "    epoch_lossess = []\n",
    "    for x, y in train_loader:\n",
    "\n",
    "        x = x.cuda()  # .to(device)\n",
    "        y = y.cuda()  # .to(device)\n",
    "\n",
    "        preds = model(x)\n",
    "\n",
    "        optimizer.zero_grad()\n",
    "\n",
    "        loss = loss_fn(preds, y)\n",
    "        loss.backward()\n",
    "\n",
    "        epoch_lossess.append(loss.item())\n",
    "        optimizer.step()\n",
    "\n",
    "    loss_mean = np.array(epoch_lossess).mean()\n",
    "    epochs_losses.append(loss_mean)\n",
    "\n",
    "loss_mean = np.array(epochs_losses).mean()\n",
    "loss_mean\n"
   ]
  },
  {
   "attachments": {},
   "cell_type": "markdown",
   "metadata": {},
   "source": [
    "# Walidacja przy założeniu, że model ma przewidzieć ostatnie 6 dni oraz 1 przyszły"
   ]
  },
  {
   "cell_type": "code",
   "execution_count": 310,
   "metadata": {},
   "outputs": [
    {
     "name": "stdout",
     "output_type": "stream",
     "text": [
      "Valid accuracy: 0.08\n"
     ]
    }
   ],
   "source": [
    "model.eval()\n",
    "\n",
    "with torch.no_grad():\n",
    "    correct, all_ = 0, 0\n",
    "    for X, labels in test_loader:\n",
    "\n",
    "        X = X.to(device)\n",
    "        labels = labels.to(device)\n",
    "\n",
    "        preds = model(X)\n",
    "\n",
    "        for t in torch.round(preds) == labels:\n",
    "            if sum(t) == 7:\n",
    "                correct += 1\n",
    "            all_ += 1\n",
    "\n",
    "try:\n",
    "    print(f'Valid accuracy: {round(correct/all_, 2)}')\n",
    "except TypeError:\n",
    "    print(f'Valid accuracy: {correct/all_, 2}')\n"
   ]
  },
  {
   "attachments": {},
   "cell_type": "markdown",
   "metadata": {},
   "source": [
    "# Walidacja przy założeniu, że model ma przewidzieć 1 przyszły dzień"
   ]
  },
  {
   "cell_type": "code",
   "execution_count": 311,
   "metadata": {},
   "outputs": [
    {
     "name": "stdout",
     "output_type": "stream",
     "text": [
      "Valid accuracy: 1.0\n"
     ]
    }
   ],
   "source": [
    "model.eval()\n",
    "\n",
    "with torch.no_grad():\n",
    "    correct, all_ = 0, 0\n",
    "    for X, labels in test_loader:\n",
    "\n",
    "        X = X.to(device)\n",
    "        labels = labels.to(device)\n",
    "\n",
    "        preds = model(X)\n",
    "\n",
    "        for t in torch.round(preds) == labels:\n",
    "            if t[-1] == True:\n",
    "                correct += 1\n",
    "            all_ += 1\n",
    "\n",
    "try:\n",
    "    print(f'Valid accuracy: {round(correct/all_, 2)}')\n",
    "except TypeError:\n",
    "    print(f'Valid accuracy: {correct/all_, 2}')\n"
   ]
  },
  {
   "attachments": {},
   "cell_type": "markdown",
   "metadata": {},
   "source": [
    "### Warto zwrócić uwagę na fakt, że model został do tej pory wytrenowany tylko na 10 utworach oraz nie jest dostrojony - co zostanie poprawione w najbliższych dniach"
   ]
  }
 ],
 "metadata": {
  "kernelspec": {
   "display_name": "ssne",
   "language": "python",
   "name": "python3"
  },
  "language_info": {
   "codemirror_mode": {
    "name": "ipython",
    "version": 3
   },
   "file_extension": ".py",
   "mimetype": "text/x-python",
   "name": "python",
   "nbconvert_exporter": "python",
   "pygments_lexer": "ipython3",
   "version": "3.10.8"
  },
  "orig_nbformat": 4,
  "vscode": {
   "interpreter": {
    "hash": "fefba7ab84d2de9e566d8fee028ec3dc1e3f21c7f74d680889548c1a33856853"
   }
  }
 },
 "nbformat": 4,
 "nbformat_minor": 2
}
